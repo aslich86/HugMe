{
  "nbformat": 4,
  "nbformat_minor": 0,
  "metadata": {
    "colab": {
      "provenance": [],
      "gpuType": "T4"
    },
    "kernelspec": {
      "name": "python3",
      "display_name": "Python 3"
    },
    "language_info": {
      "name": "python"
    },
    "accelerator": "GPU"
  },
  "cells": [
    {
      "cell_type": "code",
      "source": [
        "import os\n",
        "import csv"
      ],
      "metadata": {
        "id": "yVxdfklQr-V3"
      },
      "execution_count": null,
      "outputs": []
    },
    {
      "cell_type": "code",
      "execution_count": null,
      "metadata": {
        "colab": {
          "base_uri": "https://localhost:8080/"
        },
        "id": "iki50HTRqUzJ",
        "outputId": "20752ca5-2871-4760-8941-d2feca272152"
      },
      "outputs": [
        {
          "output_type": "stream",
          "name": "stdout",
          "text": [
            "Cloning into 'poem-sentiment'...\n",
            "remote: Enumerating objects: 22, done.\u001b[K\n",
            "remote: Counting objects: 100% (22/22), done.\u001b[K\n",
            "remote: Compressing objects: 100% (19/19), done.\u001b[K\n",
            "remote: Total 22 (delta 2), reused 0 (delta 0), pack-reused 0\u001b[K\n",
            "Receiving objects: 100% (22/22), 33.54 KiB | 1.68 MiB/s, done.\n",
            "Resolving deltas: 100% (2/2), done.\n",
            "Cloning into 'tweet_sentiment_extraction'...\n",
            "remote: Enumerating objects: 15, done.\u001b[K\n",
            "remote: Total 15 (delta 0), reused 0 (delta 0), pack-reused 15\u001b[K\n",
            "Unpacking objects: 100% (15/15), 1.31 MiB | 8.17 MiB/s, done.\n",
            "Downloading...\n",
            "From: https://drive.google.com/uc?id=1nOq-QxagdrNYag51XDhQwTCTok6LN89h\n",
            "To: /content/sentiment140.zip\n",
            "100% 84.9M/84.9M [00:03<00:00, 26.8MB/s]\n",
            "Downloading...\n",
            "From: https://drive.google.com/uc?id=1XtKRlTEjPN-Yp65cZKuiEcGxzr4HCY8D\n",
            "To: /content/MH_Campaign_Tweets_Sentiment_Scored_1723.csv\n",
            "100% 735M/735M [00:10<00:00, 70.2MB/s]\n",
            "Downloading...\n",
            "From: https://drive.google.com/uc?id=1iEQeMmeOp0UQVSdbKI3JBw4TOWPQULy-\n",
            "To: /content/tambahan_netral.txt\n",
            "100% 249k/249k [00:00<00:00, 60.8MB/s]\n"
          ]
        }
      ],
      "source": [
        "#prepocess dataset\n",
        "\n",
        "!git clone \"https://github.com/google-research-datasets/poem-sentiment/\"\n",
        "!git clone \"https://huggingface.co/datasets/mteb/tweet_sentiment_extraction/\"\n",
        "!gdown \"1nOq-QxagdrNYag51XDhQwTCTok6LN89h\" #sentimemt140\n",
        "\n",
        "!gdown \"1XtKRlTEjPN-Yp65cZKuiEcGxzr4HCY8D\" #yg lama\n",
        "\n",
        "!gdown \"1iEQeMmeOp0UQVSdbKI3JBw4TOWPQULy-\" #tambahan netral\n"
      ]
    },
    {
      "cell_type": "code",
      "source": [
        "stop_words = ['the', 'and', 'or', 'is', 'a', 'an', 'of', 'in', 'to', 'for', 'with', 'on']\n",
        "import string"
      ],
      "metadata": {
        "id": "r6-u8cOlMWHx"
      },
      "execution_count": null,
      "outputs": []
    },
    {
      "cell_type": "code",
      "source": [
        "#\"https://github.com/google-research-datasets/poem-sentiment/\"\n",
        "\n",
        "import csv\n",
        "import re\n",
        "\n",
        "\n",
        "tulis_path = '/content/drive/MyDrive/DATASET_CAPSTONE/poem_sentiment.csv'\n",
        "\n",
        "path1 = \"/content/poem-sentiment/data/train.tsv\"\n",
        "path2 = \"/content/poem-sentiment/data/test.tsv\"\n",
        "path3 = \"/content/poem-sentiment/data/dev.tsv\"\n",
        "\n",
        "# negatif = 0, netral = 2, positif = 1\n",
        "kalimat = []\n",
        "score = []\n",
        "\n",
        "jumlah = [0,0,0]\n",
        "\n",
        "for k in [path1, path2, path3]:\n",
        "    with open(k, 'r') as file_csv:\n",
        "        # Membaca file CSV menggunakan csv.reader\n",
        "        csv_reader = csv.reader(file_csv, delimiter='\\t')\n",
        "        next(csv_reader)\n",
        "        for line in csv_reader:\n",
        "            try:\n",
        "                j = int(line[2])\n",
        "                if j == 0:\n",
        "                    score.append([1, 0, 0])\n",
        "                    text = re.sub(r'[-.,:;!?\\n@#]|//t', ' ', line[1])\n",
        "                    text = ' '.join([word.strip(string.punctuation) for word in text.split() if word.lower() not in stop_words])\n",
        "\n",
        "                    kalimat.append(text)\n",
        "                    jumlah[0] += 1\n",
        "                elif j == 2:\n",
        "                    score.append([0, 1, 0])\n",
        "                    text = re.sub(r'[-.,:;!?\\n@#]|//t', ' ', line[1])\n",
        "                    text = ' '.join([word.strip(string.punctuation) for word in text.split() if word.lower() not in stop_words])\n",
        "\n",
        "                    kalimat.append(text)\n",
        "                    jumlah[1] += 1\n",
        "                elif j == 1:\n",
        "                    score.append([0, 0, 1])\n",
        "                    text = re.sub(r'[-.,:;!?\\n@#]|//t', ' ', line[1])\n",
        "                    text = ' '.join([word.strip(string.punctuation) for word in text.split() if word.lower() not in stop_words])\n",
        "\n",
        "                    kalimat.append(text)\n",
        "                    jumlah[2] += 1\n",
        "            except Exception as e:\n",
        "                print(\"error :\", line, e)\n",
        "\n",
        "\n",
        "\n",
        "\n",
        "print(\"jumlah kalimat, score : \", len(kalimat), len(score))\n",
        "print(\"(negatif, netral, positif)\")\n",
        "print(\"jumlah kelas : \", jumlah)\n",
        "print()\n",
        "\n",
        "full = []\n",
        "\n",
        "# Menggabungkan kalimat dan skor\n",
        "for i in range(len(kalimat)):\n",
        "    full.append([kalimat[i], score[i]])\n",
        "\n",
        "# Tulis data list ke dalam file CSV\n",
        "with open(tulis_path, 'w', newline='', encoding='utf-8') as file:\n",
        "    writer = csv.writer(file)\n",
        "\n",
        "    # Tulis baris data satu per satu\n",
        "    for row in full:\n",
        "        writer.writerow(row)\n",
        "\n",
        "print(\"full : \", len(full), full[:2])\n",
        "\n",
        "print(f\"Data telah ditulis ke {tulis_path}\")\n"
      ],
      "metadata": {
        "colab": {
          "base_uri": "https://localhost:8080/"
        },
        "id": "tRC16lhLr13J",
        "outputId": "da6452fd-ec24-455c-dba9-f26127edb414"
      },
      "execution_count": null,
      "outputs": [
        {
          "output_type": "stream",
          "name": "stdout",
          "text": [
            "error : ['89', \"who's we?--some stockholders in boston?\\t0\\n90\\tand tell you in what greek and latin name\\t0\\n91\\tnor looks on that dread place\\t-1\\n92\\twhere wisdom and not numbers should have weight,\\t0\\n93\\tfrom the hushed and silent tomb.\\t-1\\n94\\this bark her anchor weighed,\\t0\\n95\\ttwo mighty cities shone, and ever\\t1\\n96\\tunconscious of the passing troop,--\\t0\\n97\\twith the freedom of lakes and lands.\\t1\\n98\\twould he move--so as yet they made nothing of land;\\t0\\n99\\tshall part, yet link, thy nature's tone and mine.\\t0\\n100\\tsaid my companion, 'i will show you soon\\t0\\n101\\tbut god said\\t0\\n102\\tbut if thou do thy best\\t0\\n103\\tso generous to me. farewell, friend, since friend\\t1\\n104\\tlet me all risk, and leave the deep heart dumb\\t-1\"] list index out of range\n",
            "jumlah kalimat, score :  771 771\n",
            "(negatif, netral, positif)\n",
            "jumlah kelas :  [588, 42, 141]\n",
            "\n",
            "full :  771 [['it flows so long as falls rain', [1, 0, 0]], ['when i peruse conquered fame heroes victories mighty generals i do not envy generals', [0, 1, 0]]]\n",
            "Data telah ditulis ke /content/drive/MyDrive/DATASET_CAPSTONE/poem_sentiment.csv\n"
          ]
        }
      ]
    },
    {
      "cell_type": "code",
      "source": [
        "#\"https://huggingface.co/datasets/mteb/tweet_sentiment_extraction/\"\n",
        "\n",
        "import json\n",
        "import csv\n",
        "import re\n",
        "\n",
        "\n",
        "path1 = \"/content/tweet_sentiment_extraction/train.jsonl\"\n",
        "path2 = \"/content/tweet_sentiment_extraction/test.jsonl\"\n",
        "\n",
        "tulis_path = \"/content/drive/MyDrive/DATASET_CAPSTONE/tweet_sentiment_extraction.csv\"\n",
        "\n",
        "# negatif = 0, netral = 1, positif = 2\n",
        "kalimat = []\n",
        "score = []\n",
        "\n",
        "jumlah = [0,0,0]\n",
        "\n",
        "for j in [path1,path2] :\n",
        "  with open(j,\"r\") as data :\n",
        "    for h in data:\n",
        "      try :\n",
        "        fil = json.loads(h)\n",
        "\n",
        "        lab = (fil[\"label\"])\n",
        "        if lab == 0:\n",
        "          score.append([1,0,0])\n",
        "          jumlah[0] += 1\n",
        "          text = re.sub(r'[-.,:;!?\\n@#]|//t', ' ', fil[\"text\"])\n",
        "          text = ' '.join([word.strip(string.punctuation) for word in text.split() if word.lower() not in stop_words])\n",
        "\n",
        "          kalimat.append(text)\n",
        "        if lab == 1:\n",
        "          score.append([0,1,0])\n",
        "          jumlah[1] += 1\n",
        "          text = re.sub(r'[-.,:;!?\\n@#]|//t', ' ', fil[\"text\"])\n",
        "          text = ' '.join([word.strip(string.punctuation) for word in text.split() if word.lower() not in stop_words])\n",
        "\n",
        "\n",
        "          kalimat.append(text)\n",
        "        if lab == 2:\n",
        "          score.append([0,0,1])\n",
        "          jumlah[2] += 1\n",
        "          text = re.sub(r'[-.,:;!?\\n@#]|//t', ' ', fil[\"text\"])\n",
        "          text = ' '.join([word.strip(string.punctuation) for word in text.split() if word.lower() not in stop_words])\n",
        "\n",
        "\n",
        "          kalimat.append(text)\n",
        "      except :\n",
        "        print(\"error : \", h)\n",
        "\n",
        "\n",
        "\n",
        "print(kalimat[:3])\n",
        "print(score[:3])\n",
        "\n",
        "print()\n",
        "print(\"jumlah semua \" , len(kalimat),len(score))\n",
        "print(\"kelas : \", jumlah)\n",
        "\n",
        "\n",
        "full = []\n",
        "\n",
        "# Menggabungkan kalimat dan skor\n",
        "for i in range(len(kalimat)):\n",
        "    full.append([kalimat[i], score[i]])\n",
        "\n",
        "# Tulis data list ke dalam file CSV\n",
        "with open(tulis_path, 'w', newline='', encoding='utf-8') as file:\n",
        "    writer = csv.writer(file)\n",
        "\n",
        "    # Tulis baris data satu per satu\n",
        "    for row in full:\n",
        "        writer.writerow(row)\n",
        "\n",
        "print()\n",
        "print(\"full : \", len(full), full[:2])\n",
        "\n",
        "print(f\"Data telah ditulis ke {tulis_path}\")\n",
        "\n",
        "\n",
        "\n"
      ],
      "metadata": {
        "colab": {
          "base_uri": "https://localhost:8080/"
        },
        "id": "UskhRZdWt_-z",
        "outputId": "f9a63c7d-1bb7-40a1-88e5-f6b258be4023"
      },
      "execution_count": null,
      "outputs": [
        {
          "output_type": "stream",
          "name": "stdout",
          "text": [
            "['I`d have responded if I were going', 'Sooo SAD I will miss you here San Diego', 'my boss bullying me']\n",
            "[[0, 1, 0], [1, 0, 0], [1, 0, 0]]\n",
            "\n",
            "jumlah semua  31015 31015\n",
            "kelas :  [8782, 12548, 9685]\n",
            "\n",
            "full :  31015 [['I`d have responded if I were going', [0, 1, 0]], ['Sooo SAD I will miss you here San Diego', [1, 0, 0]]]\n",
            "Data telah ditulis ke /content/drive/MyDrive/DATASET_CAPSTONE/tweet_sentiment_extraction.csv\n"
          ]
        }
      ]
    },
    {
      "cell_type": "code",
      "source": [
        "!unzip \"/content/sentiment140.zip\""
      ],
      "metadata": {
        "colab": {
          "base_uri": "https://localhost:8080/"
        },
        "id": "UHdDsNMMOtyA",
        "outputId": "5f011b80-2486-45dd-c236-6398723bfa16"
      },
      "execution_count": null,
      "outputs": [
        {
          "output_type": "stream",
          "name": "stdout",
          "text": [
            "Archive:  /content/sentiment140.zip\n",
            "  inflating: training.1600000.processed.noemoticon.csv  \n"
          ]
        }
      ]
    },
    {
      "cell_type": "code",
      "source": [
        "import csv\n",
        "import re\n",
        "\n",
        "path = \"/content/training.1600000.processed.noemoticon.csv\"\n",
        "\n",
        "tulis_path = \"/content/drive/MyDrive/DATASET_CAPSTONE/sentimen140.csv\"\n",
        "\n",
        "# negatif = 0, netral = 2, positif = 4\n",
        "kalimat = []\n",
        "score = []\n",
        "\n",
        "jumlah = [0, 0, 0]\n",
        "\n",
        "with open(path, \"r\", encoding=\"latin-1\") as data:\n",
        "    file = csv.reader(data, delimiter=\",\", quotechar='\"')\n",
        "    next(file)\n",
        "    for j in file:\n",
        "        try:\n",
        "\n",
        "            lab = int(j[0])\n",
        "            if lab == 0:\n",
        "                score.append([1, 0, 0])\n",
        "                jumlah[0] += 1\n",
        "                text = re.sub(r'[-.,:;!?\\n@#]|//t', ' ', j[5])\n",
        "                text = ' '.join([word.strip(string.punctuation) for word in text.split() if word.lower() not in stop_words])\n",
        "\n",
        "\n",
        "                kalimat.append(text)  # Indeks kolom dimulai dari 0\n",
        "            elif lab == 2:\n",
        "                score.append([0, 1, 0])\n",
        "                jumlah[1] += 1\n",
        "                text = re.sub(r'[-.,:;!?\\n@#]|//t', ' ', j[5])\n",
        "                text = ' '.join([word.strip(string.punctuation) for word in text.split() if word.lower() not in stop_words])\n",
        "\n",
        "\n",
        "                kalimat.append(text)  # Indeks kolom dimulai dari 0\n",
        "            elif lab == 4:\n",
        "                score.append([0, 0, 1])\n",
        "                jumlah[2] += 1\n",
        "                text = re.sub(r'[-.,:;!?\\n@#]|//t', ' ', j[5])\n",
        "                text = ' '.join([word.strip(string.punctuation) for word in text.split() if word.lower() not in stop_words])\n",
        "\n",
        "\n",
        "                kalimat.append(text)  # Indeks kolom dimulai dari 0\n",
        "        except Exception as e:\n",
        "            print(\"error:\", e)\n",
        "\n",
        "print(kalimat[-10:])\n",
        "print(score[-10:])\n",
        "\n",
        "print()\n",
        "print(\"jumlah semua:\", len(kalimat), len(score))\n",
        "print(\"kelas:\", jumlah)\n",
        "\n",
        "\n",
        "\n",
        "full = []\n",
        "\n",
        "# Menggabungkan kalimat dan skor\n",
        "for i in range(len(kalimat)):\n",
        "    full.append([kalimat[i], score[i]])\n",
        "\n",
        "# Tulis data list ke dalam file CSV\n",
        "with open(tulis_path, 'w', newline='', encoding='utf-8') as file:\n",
        "    writer = csv.writer(file)\n",
        "\n",
        "    # Tulis baris data satu per satu\n",
        "    for row in full:\n",
        "        writer.writerow(row)\n",
        "\n",
        "print()\n",
        "print(\"full : \", len(full), full[:2])\n",
        "\n",
        "print(f\"Data telah ditulis ke {tulis_path}\")\n",
        "\n",
        "\n"
      ],
      "metadata": {
        "colab": {
          "base_uri": "https://localhost:8080/"
        },
        "id": "AaRIWuTUzpe3",
        "outputId": "7e98157b-ed2d-4d77-fb66-e844d31eb406"
      },
      "execution_count": null,
      "outputs": [
        {
          "output_type": "stream",
          "name": "stdout",
          "text": [
            "['WOOOOO Xbox back', \"rmedina LaTati Mmmm That sounds absolutely perfect but my schedule full I won't have time lay bed until Sunday Ugh\", 'ReCoVeRiNg FrOm lOnG wEeKeNd', 'SCOOBY_GRITBOYS', 'Cliff_Forster Yeah that does work better than just waiting it end I just wonder if I have time keep up good blog', 'Just woke up Having no school best feeling ever', 'TheWDB com Very cool hear old Walt interviews â\\x99« http blip fm/~8bmta', 'Are you ready your MoJo Makeover Ask me details', 'Happy 38th Birthday my boo alll time Tupac Amaru Shakur', 'happy charitytuesday theNSPCC SparksCharity SpeakingUpH4H']\n",
            "[[0, 0, 1], [0, 0, 1], [0, 0, 1], [0, 0, 1], [0, 0, 1], [0, 0, 1], [0, 0, 1], [0, 0, 1], [0, 0, 1], [0, 0, 1]]\n",
            "\n",
            "jumlah semua: 1599999 1599999\n",
            "kelas: [799999, 0, 800000]\n",
            "\n",
            "full :  1599999 [[\"upset that he can't update his Facebook by texting it might cry as result School today also Blah\", [1, 0, 0]], ['Kenichan I dived many times ball Managed save 50 rest go out bounds', [1, 0, 0]]]\n",
            "Data telah ditulis ke /content/drive/MyDrive/DATASET_CAPSTONE/sentimen140.csv\n"
          ]
        }
      ]
    },
    {
      "cell_type": "code",
      "source": [
        "# Set IOPub data rate limit\n",
        "%config InteractiveShellApp.iopub_data_rate_limit=1000000000\n",
        "\n",
        "import csv\n",
        "from tqdm import tqdm\n",
        "import ast\n",
        "import re\n",
        "import numpy as np\n",
        "\n",
        "data_path = \"/content/MH_Campaign_Tweets_Sentiment_Scored_1723.csv\"\n",
        "tulis_path = \"/content/drive/MyDrive/DATASET_CAPSTONE/MH_Campaign_sentiment.csv\"\n",
        "\n",
        "kalimat = []\n",
        "score = []\n",
        "\n",
        "with open(data_path, 'r') as file_csv:\n",
        "    # Membaca file CSV menggunakan csv.reader\n",
        "    csv_reader = csv.reader(file_csv)\n",
        "    next(csv_reader)\n",
        "    # Loop melalui baris-baris dalam file CSV\n",
        "    for baris in (csv_reader):\n",
        "        # Baris adalah daftar nilai yang dipisahkan oleh koma\n",
        "\n",
        "        #index kolom tweet = 6\n",
        "        text = re.sub(r'[-.,:;!?\\n@#]|//t', ' ', baris[6])\n",
        "        text = ' '.join([word.strip(string.punctuation) for word in text.split() if word.lower() not in stop_words])\n",
        "\n",
        "        kalimat.append(text)\n",
        "        # dari dictionary ke list index kolom score = 21\n",
        "        data = list(ast.literal_eval(baris[21]).values())\n",
        "        score.append(data[:-1])\n",
        "\n",
        "print(kalimat[:5])\n",
        "print(score[:5])\n",
        "\n",
        "full = []\n",
        "re_score = []\n",
        "\n",
        "#biar nilai hanya 0 dan 1\n",
        "for r in score :\n",
        "  l = np.argmax(r)\n",
        "  if l == 0 :\n",
        "    re_score.append([1,0,0])\n",
        "  elif l == 1 :\n",
        "    re_score.append([0,1,0])\n",
        "  elif l == 2 :\n",
        "    re_score.append([0,0,1])\n",
        "\n",
        "\n",
        "\n",
        "# Menggabungkan kalimat dan skor\n",
        "for i in range(len(kalimat)):\n",
        "    full.append([kalimat[i], re_score[i]])\n",
        "\n",
        "# Tulis data list ke dalam file CSV\n",
        "with open(tulis_path, 'w', newline='', encoding='utf-8') as file:\n",
        "    writer = csv.writer(file)\n",
        "\n",
        "    # Tulis baris data satu per satu\n",
        "    for row in full:\n",
        "        writer.writerow(row)\n",
        "\n",
        "print()\n",
        "print(\"full : \", len(full), full[:2])\n",
        "print(\"re_score : \", len(re_score), re_score[:2])\n",
        "print()\n",
        "print(f\"Data telah ditulis ke {tulis_path}\")\n",
        "\n"
      ],
      "metadata": {
        "colab": {
          "base_uri": "https://localhost:8080/"
        },
        "id": "FV6NNDNZHaMF",
        "outputId": "4d9402d6-c816-467b-beac-2ed79523d6d0"
      },
      "execution_count": null,
      "outputs": [
        {
          "output_type": "stream",
          "name": "stdout",
          "text": [
            "['People OCD experience intensely negative repetitive intrusive thoughts chronic feeling doubt danger calm anxiety people OCD will often repeat action these are known as compulsions If you experience this therapy can help OCDWeek OCD https co/2MKew1wG4u', \"Hello all I'm Erika IOCDF grassroots advocate that loves rockyourvalues by painting rocks spread awareness lower stigma about OCD our community Here look back from OCDweek 2022 Excited my workshop at end Feb \\U0001faf6 https co/nzsi43m1gW\", \"light last week's OCD Awareness week we wanted offer signposting options those that may be experiencing symptoms Please reach out your GP OCD Action Helpline 0845 390 6232 click here more info https co/j2xsFSqKs8 OCDWeek https co/ojQ0friuno\", 'GIFS now have over 1 4 million views GIPHY We hope this campaign shifts perception people have OCD Thank you all who participated OCDweek 2022 We will continue focus offering supportive community year round look forward next year', '2022 OCDweek events activities livestreams led some amazing participation engagement this year Programming was developed by our dedicated group IOCDF Advocates National Advocates our Lead Advocates included 10 live advocate run events cont ']\n",
            "[[0.242, 0.645, 0.113], [0.043, 0.821, 0.136], [0.0, 0.925, 0.075], [0.0, 0.848, 0.152], [0.0, 0.786, 0.214]]\n",
            "\n",
            "full :  724745 [['People OCD experience intensely negative repetitive intrusive thoughts chronic feeling doubt danger calm anxiety people OCD will often repeat action these are known as compulsions If you experience this therapy can help OCDWeek OCD https co/2MKew1wG4u', [0, 1, 0]], [\"Hello all I'm Erika IOCDF grassroots advocate that loves rockyourvalues by painting rocks spread awareness lower stigma about OCD our community Here look back from OCDweek 2022 Excited my workshop at end Feb \\U0001faf6 https co/nzsi43m1gW\", [0, 1, 0]]]\n",
            "re_score :  724745 [[0, 1, 0], [0, 1, 0]]\n",
            "\n",
            "Data telah ditulis ke /content/drive/MyDrive/DATASET_CAPSTONE/MH_Campaign_sentiment.csv\n"
          ]
        }
      ]
    },
    {
      "cell_type": "code",
      "source": [
        "import csv\n",
        "import re\n",
        "\n",
        "path = \"/content/tambahan_netral.txt\"\n",
        "tulis_path = \"/content/drive/MyDrive/DATASET_CAPSTONE/tambahan_netral.csv\"\n",
        "\n",
        "\n",
        "#negatif,netral,positif\n",
        "kalimat = []\n",
        "\n",
        "\n",
        "full = []\n",
        "\n",
        "with open(path,\"r\") as file :\n",
        "  reader = file.readlines()\n",
        "  for text in reader :\n",
        "    text = re.sub(r'[-.,:;!?\\n@#]|//t', ' ', text)\n",
        "    text = ' '.join([word.strip(string.punctuation) for word in text.split() if word.lower() not in stop_words])\n",
        "    kalimat.append(text)\n",
        "\n",
        "\n",
        "for t in range(len(kalimat)):\n",
        "  full.append([kalimat[t],[0,1,0]])\n",
        "\n",
        "\n",
        "with open(tulis_path,\"w\",newline = \"\", encoding=\"utf-8\") as file :\n",
        "  writer = csv.writer(file)\n",
        "  for h in full :\n",
        "    writer.writerow(h)\n",
        "\n",
        "print()\n",
        "print(\"full : \", len(full), full[:2])\n",
        "\n",
        "print()\n",
        "print(f\"Data telah ditulis ke {tulis_path}\")\n"
      ],
      "metadata": {
        "colab": {
          "base_uri": "https://localhost:8080/"
        },
        "id": "yTPyO6ajgBw5",
        "outputId": "a9ff7896-9491-4be7-8731-50e1692a5c27"
      },
      "execution_count": null,
      "outputs": [
        {
          "output_type": "stream",
          "name": "stdout",
          "text": [
            "\n",
            "full :  5458 [[\"I don't have preference either option they both seem reasonable\", [0, 1, 0]], ['news article reported facts without evoking any emotional response', [0, 1, 0]]]\n",
            "\n",
            "Data telah ditulis ke /content/drive/MyDrive/DATASET_CAPSTONE/tambahan_netral.csv\n"
          ]
        }
      ]
    },
    {
      "cell_type": "code",
      "source": [],
      "metadata": {
        "id": "9JtAV8KTKWbY"
      },
      "execution_count": null,
      "outputs": []
    }
  ]
}